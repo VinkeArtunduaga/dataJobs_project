{
 "cells": [
  {
   "cell_type": "markdown",
   "id": "225fa468",
   "metadata": {},
   "source": [
    "# EDA API / Job Salary Data API\n",
    "\n",
    "### Kevin Artunduaga - 2216155"
   ]
  },
  {
   "cell_type": "code",
   "execution_count": 2,
   "id": "16b50ff1",
   "metadata": {},
   "outputs": [],
   "source": [
    "import pandas as pd\n",
    "import json\n",
    "import matplotlib.pyplot as plt\n",
    "import seaborn as sns"
   ]
  },
  {
   "cell_type": "markdown",
   "id": "d84dfb2a",
   "metadata": {},
   "source": [
    "### Las librerias usadas para el EDA son pandas, json, request, matplotlib (para las graficas) y seaborn."
   ]
  },
  {
   "cell_type": "code",
   "execution_count": 8,
   "id": "9ee3f9a5",
   "metadata": {},
   "outputs": [],
   "source": [
    "df_jobs = pd.read_csv(\"C:/Users/kevin/ETL/Postgres/kaggle/dataJobs_project/API/job_salaries.csv\", encoding='ISO-8859-1', delimiter=',')"
   ]
  },
  {
   "cell_type": "code",
   "execution_count": 9,
   "id": "7020f85c",
   "metadata": {},
   "outputs": [
    {
     "name": "stdout",
     "output_type": "stream",
     "text": [
      "<class 'pandas.core.frame.DataFrame'>\n",
      "RangeIndex: 2229 entries, 0 to 2228\n",
      "Data columns (total 9 columns):\n",
      " #   Column           Non-Null Count  Dtype  \n",
      "---  ------           --------------  -----  \n",
      " 0   location         2229 non-null   object \n",
      " 1   job_title        2229 non-null   object \n",
      " 2   publisher_name   2229 non-null   object \n",
      " 3   publisher_link   2229 non-null   object \n",
      " 4   min_salary       2229 non-null   float64\n",
      " 5   max_salary       2229 non-null   float64\n",
      " 6   median_salary    2229 non-null   float64\n",
      " 7   salary_period    2229 non-null   object \n",
      " 8   salary_currency  2229 non-null   object \n",
      "dtypes: float64(3), object(6)\n",
      "memory usage: 156.9+ KB\n"
     ]
    }
   ],
   "source": [
    "df_jobs.info()"
   ]
  },
  {
   "cell_type": "markdown",
   "id": "4d29b2f7",
   "metadata": {},
   "source": [
    "De las 9 columnas, 6 son de tipo Varchar y las otras 3 son de tipo decimal o flotante."
   ]
  },
  {
   "cell_type": "code",
   "execution_count": 10,
   "id": "7e7d4ab6",
   "metadata": {},
   "outputs": [
    {
     "data": {
      "text/html": [
       "<div>\n",
       "<style scoped>\n",
       "    .dataframe tbody tr th:only-of-type {\n",
       "        vertical-align: middle;\n",
       "    }\n",
       "\n",
       "    .dataframe tbody tr th {\n",
       "        vertical-align: top;\n",
       "    }\n",
       "\n",
       "    .dataframe thead th {\n",
       "        text-align: right;\n",
       "    }\n",
       "</style>\n",
       "<table border=\"1\" class=\"dataframe\">\n",
       "  <thead>\n",
       "    <tr style=\"text-align: right;\">\n",
       "      <th></th>\n",
       "      <th>location</th>\n",
       "      <th>job_title</th>\n",
       "      <th>publisher_name</th>\n",
       "      <th>publisher_link</th>\n",
       "      <th>min_salary</th>\n",
       "      <th>max_salary</th>\n",
       "      <th>median_salary</th>\n",
       "      <th>salary_period</th>\n",
       "      <th>salary_currency</th>\n",
       "    </tr>\n",
       "  </thead>\n",
       "  <tbody>\n",
       "    <tr>\n",
       "      <th>0</th>\n",
       "      <td>United States</td>\n",
       "      <td>Project Manager</td>\n",
       "      <td>Glassdoor</td>\n",
       "      <td>https://Glassdoor.com/Project Manager</td>\n",
       "      <td>72499.0</td>\n",
       "      <td>134999.0</td>\n",
       "      <td>95235.0</td>\n",
       "      <td>YEAR</td>\n",
       "      <td>USD</td>\n",
       "    </tr>\n",
       "    <tr>\n",
       "      <th>1</th>\n",
       "      <td>United States</td>\n",
       "      <td>Project Manager</td>\n",
       "      <td>Indeed</td>\n",
       "      <td>https://Indeed.com/Project Manager</td>\n",
       "      <td>73199.0</td>\n",
       "      <td>135499.0</td>\n",
       "      <td>95535.0</td>\n",
       "      <td>YEAR</td>\n",
       "      <td>USD</td>\n",
       "    </tr>\n",
       "    <tr>\n",
       "      <th>2</th>\n",
       "      <td>United States</td>\n",
       "      <td>Project Manager</td>\n",
       "      <td>Payscale</td>\n",
       "      <td>https://Payscale.com/Project Manager</td>\n",
       "      <td>73299.0</td>\n",
       "      <td>135599.0</td>\n",
       "      <td>95635.0</td>\n",
       "      <td>YEAR</td>\n",
       "      <td>USD</td>\n",
       "    </tr>\n",
       "    <tr>\n",
       "      <th>3</th>\n",
       "      <td>United States</td>\n",
       "      <td>Software Engineer</td>\n",
       "      <td>Glassdoor</td>\n",
       "      <td>https://Glassdoor.com/Software Engineer</td>\n",
       "      <td>98778.0</td>\n",
       "      <td>165000.0</td>\n",
       "      <td>123724.0</td>\n",
       "      <td>YEAR</td>\n",
       "      <td>USD</td>\n",
       "    </tr>\n",
       "    <tr>\n",
       "      <th>4</th>\n",
       "      <td>United States</td>\n",
       "      <td>Software Engineer</td>\n",
       "      <td>Indeed</td>\n",
       "      <td>https://Indeed.com/Software Engineer</td>\n",
       "      <td>99178.0</td>\n",
       "      <td>165300.0</td>\n",
       "      <td>123924.0</td>\n",
       "      <td>YEAR</td>\n",
       "      <td>USD</td>\n",
       "    </tr>\n",
       "  </tbody>\n",
       "</table>\n",
       "</div>"
      ],
      "text/plain": [
       "        location          job_title publisher_name  \\\n",
       "0  United States    Project Manager      Glassdoor   \n",
       "1  United States    Project Manager         Indeed   \n",
       "2  United States    Project Manager       Payscale   \n",
       "3  United States  Software Engineer      Glassdoor   \n",
       "4  United States  Software Engineer         Indeed   \n",
       "\n",
       "                            publisher_link  min_salary  max_salary  \\\n",
       "0    https://Glassdoor.com/Project Manager     72499.0    134999.0   \n",
       "1       https://Indeed.com/Project Manager     73199.0    135499.0   \n",
       "2     https://Payscale.com/Project Manager     73299.0    135599.0   \n",
       "3  https://Glassdoor.com/Software Engineer     98778.0    165000.0   \n",
       "4     https://Indeed.com/Software Engineer     99178.0    165300.0   \n",
       "\n",
       "   median_salary salary_period salary_currency  \n",
       "0        95235.0          YEAR             USD  \n",
       "1        95535.0          YEAR             USD  \n",
       "2        95635.0          YEAR             USD  \n",
       "3       123724.0          YEAR             USD  \n",
       "4       123924.0          YEAR             USD  "
      ]
     },
     "execution_count": 10,
     "metadata": {},
     "output_type": "execute_result"
    }
   ],
   "source": [
    "df_jobs.head()"
   ]
  },
  {
   "cell_type": "markdown",
   "id": "178cd343",
   "metadata": {},
   "source": [
    "Aqui miro las 5 primeras filas de el df de la API y se puede apreciar como se distribuye la informacion en cada una de las filas."
   ]
  },
  {
   "cell_type": "code",
   "execution_count": 11,
   "id": "30f9238a",
   "metadata": {},
   "outputs": [
    {
     "data": {
      "text/plain": [
       "location           0\n",
       "job_title          0\n",
       "publisher_name     0\n",
       "publisher_link     0\n",
       "min_salary         0\n",
       "max_salary         0\n",
       "median_salary      0\n",
       "salary_period      0\n",
       "salary_currency    0\n",
       "dtype: int64"
      ]
     },
     "execution_count": 11,
     "metadata": {},
     "output_type": "execute_result"
    }
   ],
   "source": [
    "df_jobs.isnull().sum()"
   ]
  },
  {
   "cell_type": "markdown",
   "id": "c76fd3c6",
   "metadata": {},
   "source": [
    "Aqui mire la cantidad de nulos por columna y no hay ningun nulo en ninguna de las columnas"
   ]
  },
  {
   "cell_type": "code",
   "execution_count": 12,
   "id": "2e085570",
   "metadata": {},
   "outputs": [
    {
     "data": {
      "text/html": [
       "<div>\n",
       "<style scoped>\n",
       "    .dataframe tbody tr th:only-of-type {\n",
       "        vertical-align: middle;\n",
       "    }\n",
       "\n",
       "    .dataframe tbody tr th {\n",
       "        vertical-align: top;\n",
       "    }\n",
       "\n",
       "    .dataframe thead th {\n",
       "        text-align: right;\n",
       "    }\n",
       "</style>\n",
       "<table border=\"1\" class=\"dataframe\">\n",
       "  <thead>\n",
       "    <tr style=\"text-align: right;\">\n",
       "      <th></th>\n",
       "      <th>min_salary</th>\n",
       "      <th>max_salary</th>\n",
       "      <th>median_salary</th>\n",
       "    </tr>\n",
       "  </thead>\n",
       "  <tbody>\n",
       "    <tr>\n",
       "      <th>count</th>\n",
       "      <td>2229.000000</td>\n",
       "      <td>2229.000000</td>\n",
       "      <td>2229.000000</td>\n",
       "    </tr>\n",
       "    <tr>\n",
       "      <th>mean</th>\n",
       "      <td>65334.756393</td>\n",
       "      <td>94136.796321</td>\n",
       "      <td>76913.100045</td>\n",
       "    </tr>\n",
       "    <tr>\n",
       "      <th>std</th>\n",
       "      <td>21904.733834</td>\n",
       "      <td>39413.113265</td>\n",
       "      <td>26964.620341</td>\n",
       "    </tr>\n",
       "    <tr>\n",
       "      <th>min</th>\n",
       "      <td>37056.000000</td>\n",
       "      <td>51766.000000</td>\n",
       "      <td>46405.000000</td>\n",
       "    </tr>\n",
       "    <tr>\n",
       "      <th>25%</th>\n",
       "      <td>49637.000000</td>\n",
       "      <td>65250.000000</td>\n",
       "      <td>57178.000000</td>\n",
       "    </tr>\n",
       "    <tr>\n",
       "      <th>50%</th>\n",
       "      <td>60594.000000</td>\n",
       "      <td>76890.000000</td>\n",
       "      <td>69007.000000</td>\n",
       "    </tr>\n",
       "    <tr>\n",
       "      <th>75%</th>\n",
       "      <td>69610.000000</td>\n",
       "      <td>125118.000000</td>\n",
       "      <td>90961.000000</td>\n",
       "    </tr>\n",
       "    <tr>\n",
       "      <th>max</th>\n",
       "      <td>148483.000000</td>\n",
       "      <td>211000.000000</td>\n",
       "      <td>172188.000000</td>\n",
       "    </tr>\n",
       "  </tbody>\n",
       "</table>\n",
       "</div>"
      ],
      "text/plain": [
       "          min_salary     max_salary  median_salary\n",
       "count    2229.000000    2229.000000    2229.000000\n",
       "mean    65334.756393   94136.796321   76913.100045\n",
       "std     21904.733834   39413.113265   26964.620341\n",
       "min     37056.000000   51766.000000   46405.000000\n",
       "25%     49637.000000   65250.000000   57178.000000\n",
       "50%     60594.000000   76890.000000   69007.000000\n",
       "75%     69610.000000  125118.000000   90961.000000\n",
       "max    148483.000000  211000.000000  172188.000000"
      ]
     },
     "execution_count": 12,
     "metadata": {},
     "output_type": "execute_result"
    }
   ],
   "source": [
    "df_jobs.describe()"
   ]
  },
  {
   "cell_type": "markdown",
   "id": "0a76e35a",
   "metadata": {},
   "source": [
    "Aqui quise apreciar cada una de las medidas por las variables numericas y lo relevante que se puede apreciar es que el salario mas bajo de min salary es 37025 y que el salario mas alto del max salary es 211000 dolares."
   ]
  },
  {
   "cell_type": "code",
   "execution_count": 13,
   "id": "85dd0704",
   "metadata": {},
   "outputs": [
    {
     "data": {
      "image/png": "[encoded data removed]",
      "text/plain": [
       "<Figure size 720x432 with 1 Axes>"
      ]
     },
     "metadata": {
      "needs_background": "light"
     },
     "output_type": "display_data"
    }
   ],
   "source": [
    "# Agrupa los datos por job_title y calcula la mediana del salario\n",
    "median_salaries = df_jobs.groupby('job_title')['median_salary'].median().sort_values(ascending=False)\n",
    "\n",
    "# Calcula la mediana del salario de todos los trabajos\n",
    "overall_median = df_jobs['median_salary'].median()\n",
    "\n",
    "# Toma los 5 títulos de trabajo con los salarios medianos más cercanos a la mediana general\n",
    "top_5_titles = median_salaries[median_salaries <= overall_median].head(5)\n",
    "\n",
    "# Crea una figura y ejes para el gráfico\n",
    "fig, ax = plt.subplots(figsize=(10, 6))\n",
    "\n",
    "# Crea un gráfico de barras horizontales para los 5 títulos de trabajo\n",
    "top_5_titles.plot(kind='barh', ax=ax, color='skyblue')\n",
    "\n",
    "# Configura las etiquetas y el título\n",
    "ax.set_xlabel('Median Salary')\n",
    "ax.set_ylabel('Job Title')\n",
    "ax.set_title('Top 5 Job Titles with Median Salary Close to Overall Median')\n",
    "\n",
    "# Muestra el gráfico\n",
    "plt.tight_layout()\n",
    "plt.show()"
   ]
  },
  {
   "cell_type": "markdown",
   "id": "24187b70",
   "metadata": {},
   "source": [
    "Aqui mire los trabajos mas promedios a partir de los trabajos y con un top 5."
   ]
  },
  {
   "cell_type": "code",
   "execution_count": 14,
   "id": "5cfb880f",
   "metadata": {},
   "outputs": [
    {
     "data": {
      "image/png": "[encoded data removed]",
      "text/plain": [
       "<Figure size 720x432 with 1 Axes>"
      ]
     },
     "metadata": {
      "needs_background": "light"
     },
     "output_type": "display_data"
    }
   ],
   "source": [
    "# Agrupa los datos por job_title y calcula el salario máximo\n",
    "max_salaries = df_jobs.groupby('job_title')['max_salary'].max().sort_values(ascending=False)\n",
    "\n",
    "top_5_highest_salaries = max_salaries.head(5)\n",
    "\n",
    "fig, ax = plt.subplots(figsize=(10, 6))\n",
    "\n",
    "top_5_highest_salaries.plot(kind='barh', ax=ax, color='skyblue')\n",
    "\n",
    "ax.set_xlabel('Maximum Salary')\n",
    "ax.set_ylabel('Job Title')\n",
    "ax.set_title('Top 5 Job Titles with Highest Maximum Salary')\n",
    "\n",
    "plt.tight_layout()\n",
    "plt.show()"
   ]
  },
  {
   "cell_type": "markdown",
   "id": "04cd647c",
   "metadata": {},
   "source": [
    "Para esta grafica se pueden apreciar los salarios mas altos a partir de max salary con la cantidad de dolares."
   ]
  },
  {
   "cell_type": "code",
   "execution_count": 15,
   "id": "d7ecd455",
   "metadata": {},
   "outputs": [
    {
     "data": {
      "image/png": "[encoded data removed]",
      "text/plain": [
       "<Figure size 720x432 with 1 Axes>"
      ]
     },
     "metadata": {
      "needs_background": "light"
     },
     "output_type": "display_data"
    }
   ],
   "source": [
    "# Agrupa los datos por job_title y calcula el salario mínimo\n",
    "min_salaries = df_jobs.groupby('job_title')['min_salary'].min().sort_values()\n",
    "\n",
    "top_5_lowest_salaries = min_salaries.head(5)\n",
    "\n",
    "fig, ax = plt.subplots(figsize=(10, 6))\n",
    "\n",
    "top_5_lowest_salaries.plot(kind='barh', ax=ax, color='salmon')\n",
    "\n",
    "ax.set_xlabel('Minimum Salary')\n",
    "ax.set_ylabel('Job Title')\n",
    "ax.set_title('Top 5 Job Titles with Lowest Minimum Salary')\n",
    "\n",
    "plt.tight_layout()\n",
    "plt.show()"
   ]
  },
  {
   "cell_type": "markdown",
   "id": "4df83c79",
   "metadata": {},
   "source": [
    "Aqui hice una grafica del top 5 de los titulos de trabajo con los salarios mas baos a partir de min salary."
   ]
  }
 ],
 "metadata": {
  "kernelspec": {
   "display_name": "Python 3 (ipykernel)",
   "language": "python",
   "name": "python3"
  },
  "language_info": {
   "codemirror_mode": {
    "name": "ipython",
    "version": 3
   },
   "file_extension": ".py",
   "mimetype": "text/x-python",
   "name": "python",
   "nbconvert_exporter": "python",
   "pygments_lexer": "ipython3",
   "version": "3.9.12"
  }
 },
 "nbformat": 4,
 "nbformat_minor": 5
}
